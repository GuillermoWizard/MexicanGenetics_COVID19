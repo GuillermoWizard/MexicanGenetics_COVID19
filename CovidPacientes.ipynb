{
 "cells": [
  {
   "cell_type": "markdown",
   "id": "august-livestock",
   "metadata": {},
   "source": [
    "# Análisis de los datos de pacientes covid\n",
    "\n",
    "[/] Navegar expedientes  \n",
    "* ver helpers.py  \n",
    "\n",
    "[AC] Obtener datos de todos los pacientes  \n",
    "* ver extraerDatosPacientes.py y scrapperHTML.py  \n",
    "* genera datos_pacientes.pk  \n",
    "\n",
    "[ME] Remover nombres, tratante y fechas de nacimiento de todos los archivos  \n",
    "* ver replaceStringsPDF.py  \n",
    "\n",
    "[AA] Extraer tablas de pdf  \n",
    "* ver scrapperPDF.py  \n",
    "\n",
    "[ME] Anonimizado agresivo sobre notas de html  \n",
    "* ver anonimizado.py  \n",
    "\n",
    "[AC] Covidminer sobre notas de html  "
   ]
  },
  {
   "cell_type": "code",
   "execution_count": 5,
   "id": "colonial-miami",
   "metadata": {},
   "outputs": [],
   "source": [
    "import os\n",
    "import argparse\n",
    "from PyPDF2 import PdfFileReader, PdfFileWriter\n",
    "\n",
    "\n",
    "def replace_text(content, replacements = dict()):\n",
    "    lines = content.splitlines()\n",
    "    result = \"\"\n",
    "    in_text = False\n",
    "    for line in lines:\n",
    "        if line == \"BT\": in_text = True\n",
    "        elif line == \"ET\": in_text = False\n",
    "        elif in_text:\n",
    "            cmd = line[-2:]\n",
    "            if cmd.lower() == 'tj':\n",
    "                replaced_line = line\n",
    "                for k, v in replacements.items():\n",
    "                    #improve this line for case\n",
    "                    replaced_line = replaced_line.replace(k, v)\n",
    "                result += replaced_line + \"\\n\"\n",
    "            else: result += line + \"\\n\"\n",
    "            continue\n",
    "        result += line + \"\\n\"\n",
    "    return result\n",
    "\n",
    "def process_data(object, replacements):\n",
    "    data = object.getData()\n",
    "    decoded_data = data.decode('utf-8')\n",
    "    replaced_data = replace_text(decoded_data, replacements)\n",
    "    encoded_data = replaced_data.encode('utf-8')\n",
    "    if object.decodedSelf is not None:\n",
    "        object.decodedSelf.setData(encoded_data)\n",
    "    else: object.setData(encoded_data)\n",
    "\n",
    "def replace_strings_in_pdf(in_file, out_file='', replacements = dict()):\n",
    "    in_file = args[\"input\"]\n",
    "    filename_base = in_file.replace(os.path.splitext(in_file)[1], \"\")\n",
    "\n",
    "    pdf = PdfFileReader(in_file)\n",
    "    writer = PdfFileWriter()\n",
    "    for page_number in range(0, pdf.getNumPages()):\n",
    "        page = pdf.getPage(page_number)\n",
    "        contents = page.getContents()\n",
    "        if len(contents) > 0:\n",
    "            for obj in contents:\n",
    "                streamObj = obj.getObject()\n",
    "                process_data(streamObj, replacements)\n",
    "        else: process_data(contents, replacements)\n",
    "        writer.addPage(page)\n",
    "    if out_file=='': out_file.replace('.pdf','_replace.pdf')\n",
    "    with open(out_file, 'wb') as f: writer.write(f)\n"
   ]
  },
  {
   "cell_type": "code",
   "execution_count": null,
   "id": "decreased-disorder",
   "metadata": {},
   "outputs": [],
   "source": []
  }
 ],
 "metadata": {
  "kernelspec": {
   "display_name": "Python 3",
   "language": "python",
   "name": "python3"
  },
  "language_info": {
   "codemirror_mode": {
    "name": "ipython",
    "version": 3
   },
   "file_extension": ".py",
   "mimetype": "text/x-python",
   "name": "python",
   "nbconvert_exporter": "python",
   "pygments_lexer": "ipython3",
   "version": "3.9.1"
  }
 },
 "nbformat": 4,
 "nbformat_minor": 5
}
