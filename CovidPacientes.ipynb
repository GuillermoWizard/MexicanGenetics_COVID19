{
 "cells": [
  {
   "cell_type": "markdown",
   "id": "olive-preference",
   "metadata": {},
   "source": [
    "# Análisis de los datos de pacientes covid\n",
    "\n",
    "Por que siempre termino haciendo un notebook"
   ]
  },
  {
   "cell_type": "code",
   "execution_count": null,
   "id": "compliant-complexity",
   "metadata": {},
   "outputs": [],
   "source": [
    "import glob\n",
    "import argparse\n",
    "from os import walk\n",
    "\n",
    "import PyPDF2\n",
    "from bs4 import BeautifulSoup\n",
    "\n",
    "from scrapperHTML import scrapperHTML\n",
    "from scrapperPDF import scrapperPDF\n",
    "from anonimizar import anonimizar\n",
    "\n",
    "path = \"CovidPacientes\"\n",
    "\n",
    "anon_dic = {'REYNERIO FAGUNDO SIERRA'}"
   ]
  },
  {
   "cell_type": "code",
   "execution_count": null,
   "id": "statewide-detective",
   "metadata": {},
   "outputs": [],
   "source": [
    "def clean_string(s):\n",
    "    s = unidecode(s).strip().lower()"
   ]
  },
  {
   "cell_type": "code",
   "execution_count": null,
   "id": "polyphonic-values",
   "metadata": {},
   "outputs": [],
   "source": [
    "from unidecode import unidecode"
   ]
  },
  {
   "cell_type": "code",
   "execution_count": null,
   "id": "front-madrid",
   "metadata": {},
   "outputs": [],
   "source": [
    "with open('data/names.txt') as f:\n",
    "    anon_data = f.read().replace('\\n',' ').split(' ')\n",
    "anon_data = [unidecode(s).strip().lower() for s in anon_data if len(s)>2]\n",
    "anon_data = sorted(list(set(anon_data)))"
   ]
  },
  {
   "cell_type": "code",
   "execution_count": null,
   "id": "traditional-blink",
   "metadata": {},
   "outputs": [],
   "source": [
    "with open('data/anon_words.txt','w') as f:\n",
    "    for s in anon_data:\n",
    "        f.write(s+'\\n')"
   ]
  },
  {
   "cell_type": "code",
   "execution_count": null,
   "id": "intelligent-consumption",
   "metadata": {},
   "outputs": [],
   "source": [
    "protected = [ De la los del Hay ]"
   ]
  },
  {
   "cell_type": "code",
   "execution_count": null,
   "id": "practical-sunrise",
   "metadata": {},
   "outputs": [],
   "source": [
    "def actualizar_diccionario_anonimización(path_files, path_dic):\n",
    "    \"\"\"\n",
    "    Toma un diccionario existente y le agrega los \n",
    "    \"\"\"\n",
    "    \n",
    "    protected ="
   ]
  },
  {
   "cell_type": "code",
   "execution_count": null,
   "id": "varying-favor",
   "metadata": {},
   "outputs": [],
   "source": [
    "# navegar el arbol de archivos para obtener nombre y fecha de nacimiento\n",
    "_, pacientes, _ = next(walk(path))\n",
    "datos_pacientes = {}\n",
    "\n",
    "for pac in pacientes[0:3]:\n",
    "    pac_path = path + '/'+pac\n",
    "    pac_files = glob.glob(pac_path+'/**', recursive=True)\n",
    "    pac_files_html = [f for f in pac_files if f[-5:]=='.html']\n",
    "\n",
    "    for f in pac_files_html:\n",
    "        try: # si es html valido extraer información de html con tags\n",
    "            with open(rf\"{f}\", encoding = \"utf-8\") as fp:\n",
    "                soup = BeautifulSoup(fp, \"lxml\")\n",
    "            pac_data = scrapperHTML(f)\n",
    "            \n",
    "        except UnicodeDecodeError: pass\n",
    "            \n",
    "        # merge dictionaries\n",
    "        if pac in datos_pacientes.keys():\n",
    "            datos_pacientes[pac].update(pac_data)\n",
    "        else: datos_pacientes[pac] = pac_data\n",
    "  \n",
    "for pac, data in datos_pacientes.items():\n",
    "    # anonimizar\n",
    "    # análisis de texto buscar terminos covid y etc con covidminer\n",
    "    print(pac, data)"
   ]
  },
  {
   "cell_type": "code",
   "execution_count": null,
   "id": "eastern-importance",
   "metadata": {},
   "outputs": [],
   "source": []
  }
 ],
 "metadata": {
  "kernelspec": {
   "display_name": "Python 3",
   "language": "python",
   "name": "python3"
  },
  "language_info": {
   "codemirror_mode": {
    "name": "ipython",
    "version": 3
   },
   "file_extension": ".py",
   "mimetype": "text/x-python",
   "name": "python",
   "nbconvert_exporter": "python",
   "pygments_lexer": "ipython3",
   "version": "3.9.1"
  }
 },
 "nbformat": 4,
 "nbformat_minor": 5
}
