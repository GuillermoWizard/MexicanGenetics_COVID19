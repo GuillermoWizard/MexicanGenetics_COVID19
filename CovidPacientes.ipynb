{
 "cells": [
  {
   "cell_type": "markdown",
   "id": "through-somerset",
   "metadata": {},
   "source": [
    "# Análisis de los datos de pacientes covid\n",
    "\n",
    "[/] Navegar expedientes (helpers.py)  \n",
    "[AC] Obtener datos de todos los pacientes (extraerDatosPacientes.py y scrapperHTML.py > datos_pacientes.pk)  \n",
    "[/] Remover nombres, tratante y fechas de nacimiento de todos los labs pdf (replaceStringsPDF.py)  \n",
    "[AA] Extraer tablas de pdf (scrapperPDF.py)  \n",
    "[ME] Anonimizado agresivo sobre notas de html (anonimizado.py)  \n",
    "[AC] Covidminer sobre notas de html  "
   ]
  }
 ],
 "metadata": {
  "kernelspec": {
   "display_name": "Python 3",
   "language": "python",
   "name": "python3"
  },
  "language_info": {
   "codemirror_mode": {
    "name": "ipython",
    "version": 3
   },
   "file_extension": ".py",
   "mimetype": "text/x-python",
   "name": "python",
   "nbconvert_exporter": "python",
   "pygments_lexer": "ipython3",
   "version": "3.9.1"
  }
 },
 "nbformat": 4,
 "nbformat_minor": 5
}
